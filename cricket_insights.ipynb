{
 "cells": [
  {
   "cell_type": "code",
   "execution_count": null,
   "metadata": {},
   "outputs": [],
   "source": [
    "import pandas as pd \n",
    "import matplotlib.pyplot as plt\n",
    "import seaborn as sns\n",
    "\n",
    "df_test = pd.read_csv(\"processed_data/test_matches.csv\", low_memory=False)\n",
    "df_odi = pd.read_csv(\"processed_data/odi_matches.csv\", low_memory=False)\n",
    "df_t20 = pd.read_csv(\"processed_data/t20_matches.csv\", low_memory=False)\n",
    "df_ipl = pd.read_csv(\"processed_data/ipl_matches.csv\", low_memory=False)\n",
    "\n",
    "df_combined = pd.concat([df_test, df_odi, df_t20, df_ipl], ignore_index=True)\n",
    "\n",
    "sns.set_style(\"whitegrid\")  \n",
    "plt.rcParams[\"figure.figsize\"] = (10,6)"
   ]
  },
  {
   "cell_type": "markdown",
   "metadata": {},
   "source": [
    "### Test Matches\n",
    "#### (1)Top 5 Run Scorers"
   ]
  },
  {
   "cell_type": "code",
   "execution_count": null,
   "metadata": {},
   "outputs": [],
   "source": [
    "top_test_batsmen = df_test.groupby([\"match_id\", \"batsman\"])[\"runs_batsman\"].sum().nlargest(5).reset_index()\n",
    "plt.figure(figsize=(7, 5))\n",
    "sns.barplot(data=top_test_batsmen, y=\"batsman\", x=\"runs_batsman\", hue=\"batsman\", dodge=False, palette=\"Blues_r\", legend=False)\n",
    "plt.xlabel(\"Total Runs\")\n",
    "plt.ylabel(\"Batsman\")\n",
    "plt.title(\"Top 5 Run Scorers in Test Matches\")\n",
    "\n",
    "plt.show()"
   ]
  },
  {
   "cell_type": "markdown",
   "metadata": {},
   "source": [
    "####  (2)Win Margin Distribution"
   ]
  },
  {
   "cell_type": "code",
   "execution_count": null,
   "metadata": {},
   "outputs": [],
   "source": [
    "df_test = df_test.dropna(subset=[\"match_winner\"])  \n",
    "unique_matches = df_test.drop_duplicates(subset=[\"match_id\"])\n",
    "team_wins_test = unique_matches[\"match_winner\"].value_counts()\n",
    "\n",
    "plt.figure(figsize=(7, 5))\n",
    "team_wins_test.plot(kind=\"bar\", color=\"blue\")\n",
    "\n",
    "plt.xlabel(\"Teams\")\n",
    "plt.ylabel(\"Total Wins\")\n",
    "plt.title(\"Test Match Wins by Team\")\n",
    "plt.xticks(rotation=90)\n",
    "plt.grid(axis=\"y\", linestyle=\"--\", alpha=0.5)\n",
    "\n",
    "plt.show()\n"
   ]
  },
  {
   "cell_type": "markdown",
   "metadata": {},
   "source": [
    "### ODI Matches \n",
    "#### (3) Most Wins by Team"
   ]
  },
  {
   "cell_type": "code",
   "execution_count": null,
   "metadata": {},
   "outputs": [],
   "source": [
    "unique_odi_matches = df_odi.drop_duplicates(subset=[\"match_id\"])  \n",
    "team_wins_odi = unique_odi_matches[\"match_winner\"].value_counts().head(5)\n",
    "plt.figure(figsize=(7, 5))\n",
    "sns.barplot(x=team_wins_odi.index, y=team_wins_odi.values, palette=\"Greens_r\", hue=team_wins_odi.index, legend=False)\n",
    "\n",
    "plt.xlabel(\"Teams\")\n",
    "plt.ylabel(\"Total Wins\")\n",
    "plt.title(\"Most Wins by Teams in ODI Matches\")\n",
    "\n",
    "plt.tight_layout()\n",
    "plt.show()"
   ]
  },
  {
   "cell_type": "markdown",
   "metadata": {},
   "source": [
    "#### (4) Runs Per Over Distribution"
   ]
  },
  {
   "cell_type": "code",
   "execution_count": null,
   "metadata": {},
   "outputs": [],
   "source": [
    "over_avg_odi = df_odi.groupby(\"over_number\")[\"runs_total\"].mean().reset_index()  # Use MEAN instead of SUM\n",
    "\n",
    "plt.figure(figsize=(12, 6))\n",
    "sns.lineplot(data=over_avg_odi, x=\"over_number\", y=\"runs_total\", marker=\"o\", color=\"red\")\n",
    "\n",
    "plt.xlabel(\"Over Number\")\n",
    "plt.ylabel(\"Total Runs in Over\")  # Change label to \"Total Runs\"\n",
    "plt.title(\"Total Runs Scored Per Over in ODI\")\n",
    "\n",
    "plt.xticks(range(1, 51, 5))  # Show every 5 overs for readability\n",
    "plt.grid(True, linestyle=\"--\", alpha=0.5)\n",
    "\n",
    "plt.show()\n"
   ]
  },
  {
   "cell_type": "markdown",
   "metadata": {},
   "source": [
    "### T20 Matches\n",
    "#### (5) Most Six-Hitters in t20 matches"
   ]
  },
  {
   "cell_type": "code",
   "execution_count": null,
   "metadata": {},
   "outputs": [],
   "source": [
    "top_six_hitters = df_t20[df_t20[\"runs_batsman\"] == 6][\"batsman\"].value_counts().nlargest(5)\n",
    "plt.figure(figsize=(8, 5))\n",
    "plt.pie(top_six_hitters.values, labels=top_six_hitters.index, autopct='%1.1f%%', colors=sns.color_palette(\"Oranges_r\", len(top_six_hitters)))\n",
    "plt.title(\"Top 5 Six Hitters\")\n",
    "plt.show()\n"
   ]
  },
  {
   "cell_type": "markdown",
   "metadata": {},
   "source": [
    "#### (6) Wickets Taken by Bowlers"
   ]
  },
  {
   "cell_type": "code",
   "execution_count": null,
   "metadata": {},
   "outputs": [],
   "source": [
    "top_t20_bowlers = df_t20[df_t20[\"runs_batsman\"] == 0][\"bowler\"].value_counts().nlargest(5)\n",
    "plt.figure(figsize=(8, 5))\n",
    "sns.stripplot(x=top_t20_bowlers.values, y=top_t20_bowlers.index, color=\"red\", size=10)\n",
    "plt.xlabel(\"Total Wickets Taken\")\n",
    "plt.ylabel(\"Bowler\")\n",
    "plt.title(\"Top 5 Wicket-Takers in T20 Matches\")\n",
    "plt.show()\n",
    "\n"
   ]
  },
  {
   "cell_type": "markdown",
   "metadata": {},
   "source": [
    "###  IPL Matches\n",
    "#### (7) Toss Decision vs Match Wins "
   ]
  },
  {
   "cell_type": "code",
   "execution_count": null,
   "metadata": {},
   "outputs": [],
   "source": [
    "toss_win_counts = df_ipl[df_ipl[\"toss_winner\"] == df_ipl[\"match_winner\"]][\"toss_decision\"].value_counts()\n",
    "\n",
    "plt.figure(figsize=(8,5))\n",
    "plt.pie(toss_win_counts, labels=toss_win_counts.index, autopct=\"%1.1f%%\", \n",
    "        colors=[\"#ff9999\",\"#66b3ff\"], startangle=90, explode=(0.1, 0))\n",
    "plt.title(\"Win Percentage Based on Toss Decision in IPL\")\n",
    "plt.show()\n"
   ]
  },
  {
   "cell_type": "markdown",
   "metadata": {},
   "source": [
    "#### (8)Most Successful IPL Teams: Wins vs Losses"
   ]
  },
  {
   "cell_type": "code",
   "execution_count": null,
   "metadata": {},
   "outputs": [],
   "source": [
    "unique_matches = df_ipl.groupby(\"match_id\").first()  # Get one row per match\n",
    "team_matches = unique_matches[\"team_1\"].value_counts() + unique_matches[\"team_2\"].value_counts()\n",
    "team_wins = unique_matches[\"match_winner\"].value_counts()\n",
    "team_losses = team_matches - team_wins\n",
    "sorted_teams = team_matches.sort_values(ascending=False).index\n",
    "\n",
    "plt.figure(figsize=(10, 5))\n",
    "plt.bar(sorted_teams, team_wins[sorted_teams], label=\"Wins\", color=\"green\")\n",
    "plt.bar(sorted_teams, team_losses[sorted_teams], bottom=team_wins[sorted_teams], label=\"Losses\", color=\"red\")\n",
    "\n",
    "plt.xlabel(\"Teams\")\n",
    "plt.ylabel(\"Total Matches Played\")\n",
    "plt.title(\"Most Successful IPL Teams: Wins vs Losses\")\n",
    "plt.xticks(rotation=90)\n",
    "plt.legend()\n",
    "plt.grid(axis=\"y\", linestyle=\"--\", alpha=0.5)\n",
    "plt.show()"
   ]
  },
  {
   "cell_type": "markdown",
   "metadata": {},
   "source": [
    "### Combined Matches\n",
    "#### (9)Top 5 Cities That Hosted Most Matches (Across All Formats)"
   ]
  },
  {
   "cell_type": "code",
   "execution_count": null,
   "metadata": {},
   "outputs": [],
   "source": [
    "df_test[\"format\"] = \"Test\"\n",
    "df_odi[\"format\"] = \"ODI\"\n",
    "df_t20[\"format\"] = \"T20\"\n",
    "df_ipl[\"format\"] = \"IPL\"\n",
    "\n",
    "df_combined = pd.concat([df_test, df_odi, df_t20, df_ipl], ignore_index=True)\n"
   ]
  },
  {
   "cell_type": "code",
   "execution_count": null,
   "metadata": {},
   "outputs": [],
   "source": [
    "top_cities = df_combined[\"city\"].value_counts().nlargest(5)\n",
    "\n",
    "# Remove 'Unknown'\n",
    "top_cities_filtered = top_cities.drop(labels=[\"Unknown\"], errors=\"ignore\").head(5)\n",
    "\n",
    "plt.figure(figsize=(8, 5))\n",
    "sns.barplot(x=top_cities_filtered.values, y=top_cities_filtered.index, hue=top_cities_filtered.index, palette=\"flare\", legend=False)\n",
    "plt.title(\"Top 5 Cities Hosting Most Matches\")\n",
    "plt.xlabel(\"Number of Matches\")\n",
    "plt.ylabel(\"City\")\n",
    "plt.grid(axis='x', linestyle='--', alpha=0.5)\n",
    "plt.tight_layout()\n",
    "plt.show()\n",
    "\n"
   ]
  },
  {
   "cell_type": "markdown",
   "metadata": {},
   "source": [
    "#### (10)Total Runs per Inning Distributed Across Different Match Formats"
   ]
  },
  {
   "cell_type": "code",
   "execution_count": null,
   "metadata": {},
   "outputs": [],
   "source": [
    "#runs per inning with format\n",
    "runs_per_inning_format = (\n",
    "    df_combined.groupby([\"format\", \"match_id\", \"inning\"])[\"runs_total\"]\n",
    "    .sum()\n",
    "    .reset_index()\n",
    ")\n",
    "\n",
    "runs_per_inning_format = runs_per_inning_format.dropna()\n",
    "\n",
    "plt.figure(figsize=(9, 6))\n",
    "\n",
    "sns.violinplot(\n",
    "    x=\"format\",\n",
    "    y=\"runs_total\",\n",
    "    data=runs_per_inning_format,\n",
    "    hue=\"format\",\n",
    "    palette=\"cool\",\n",
    "    inner=None,\n",
    "    legend=False,\n",
    "    alpha=0.8\n",
    ")\n",
    "\n",
    "# Add mean values as points (replacing scale with markersize)\n",
    "mean_values = runs_per_inning_format.groupby(\"format\")[\"runs_total\"].mean()\n",
    "sns.pointplot(\n",
    "    x=mean_values.index,\n",
    "    y=mean_values.values,\n",
    "    color=\"black\",\n",
    "    markers=\"D\",\n",
    "    markersize=8, \n",
    "    linestyles=\"-\" \n",
    ")\n",
    "\n",
    "plt.title(\"Average Runs per Inning by Match Format\", fontsize=14, weight=\"bold\")\n",
    "plt.xlabel(\"Match Format\")\n",
    "plt.ylabel(\"Runs per Inning\")\n",
    "plt.grid(axis='y', linestyle='--', alpha=0.3)\n",
    "plt.tight_layout()\n",
    "plt.show()\n"
   ]
  }
 ],
 "metadata": {
  "kernelspec": {
   "display_name": "proj_env",
   "language": "python",
   "name": "python3"
  },
  "language_info": {
   "codemirror_mode": {
    "name": "ipython",
    "version": 3
   },
   "file_extension": ".py",
   "mimetype": "text/x-python",
   "name": "python",
   "nbconvert_exporter": "python",
   "pygments_lexer": "ipython3",
   "version": "3.11.9"
  }
 },
 "nbformat": 4,
 "nbformat_minor": 2
}
