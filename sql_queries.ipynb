{
 "cells": [
  {
   "cell_type": "code",
   "execution_count": 1,
   "metadata": {},
   "outputs": [],
   "source": [
    "from dotenv import load_dotenv\n",
    "from database import Database\n",
    "import pandas as pd\n",
    "import os\n",
    "import mysql.connector\n",
    "load_dotenv()\n",
    "db = Database() \n",
    "conn = mysql.connector.connect(\n",
    "    host=os.getenv(\"DB_HOST\"),\n",
    "    user=os.getenv(\"DB_USER\"),\n",
    "    password=os.getenv(\"DB_PASSWORD\"),\n",
    "    database=\"cricsheet_db\"\n",
    ")\n",
    "cursor = conn.cursor()"
   ]
  },
  {
   "cell_type": "markdown",
   "metadata": {},
   "source": [
    "####  (1) Top 10 batsmen by total runs in ODI"
   ]
  },
  {
   "cell_type": "code",
   "execution_count": 2,
   "metadata": {},
   "outputs": [
    {
     "name": "stdout",
     "output_type": "stream",
     "text": [
      "            batsman total_run\n",
      "0           V Kohli     28118\n",
      "1     KC Sangakkara     23236\n",
      "2         RG Sharma     21896\n",
      "3          MS Dhoni     20548\n",
      "4    AB de Villiers     18870\n",
      "5        TM Dilshan     18424\n",
      "6       LRPL Taylor     16252\n",
      "7  DPMD Jayawardene     16080\n",
      "8           HM Amla     15668\n",
      "9       Tamim Iqbal     15296\n"
     ]
    }
   ],
   "source": [
    "query  = \"\"\"\n",
    "        SELECT batsman ,sum(runs_batsman) as total_run FROM ODI_Match\n",
    "        group by batsman order by total_run desc limit 10 ; \"\"\"\n",
    "\n",
    "cursor.execute(query)\n",
    "results = cursor.fetchall()\n",
    "\n",
    "db.close_connection()\n",
    "coln = [desc[0] for desc in cursor.description]\n",
    "df = pd.DataFrame(results, columns=coln)\n",
    "print(df)"
   ]
  },
  {
   "cell_type": "markdown",
   "metadata": {},
   "source": [
    "#### (2)Leading wicket-takers in T20 matches"
   ]
  },
  {
   "cell_type": "code",
   "execution_count": 3,
   "metadata": {},
   "outputs": [
    {
     "name": "stdout",
     "output_type": "stream",
     "text": [
      "               bowler  total_wickets\n",
      "0          TG Southee           2480\n",
      "1           ML Schutt           2388\n",
      "2           DB Sharma           2344\n",
      "3            Nida Dar           2246\n",
      "4        S Ecclestone           2201\n",
      "5   Mustafizur Rahman           2076\n",
      "6           W Mwatile           2014\n",
      "7            KH Brunt           1968\n",
      "8           AU Rashid           1942\n",
      "9              M Kapp           1942\n",
      "10           S Ismail           1940\n",
      "11      C Sutthiruang           1925\n",
      "12    Shakib Al Hasan           1922\n",
      "13         MJ Santner           1922\n",
      "14       N Boochatham           1920\n"
     ]
    }
   ],
   "source": [
    "query  = \"\"\"  select bowler, count(*) as total_wickets from t20_match \n",
    "    where runs_batsman =0 group by bowler order by total_wickets desc limit 15   \"\"\"\n",
    "\n",
    "cursor.execute(query)\n",
    "results = cursor.fetchall()\n",
    "\n",
    "db.close_connection()\n",
    "coln = [desc[0] for desc in cursor.description]\n",
    "df = pd.DataFrame(results, columns=coln)\n",
    "print(df)"
   ]
  },
  {
   "cell_type": "markdown",
   "metadata": {},
   "source": [
    "#### (3)Team with the highest win percentage in Test cricket."
   ]
  },
  {
   "cell_type": "code",
   "execution_count": 4,
   "metadata": {},
   "outputs": [
    {
     "name": "stdout",
     "output_type": "stream",
     "text": [
      "   match_winner  total_wins win_percentage\n",
      "0          None      754930          22.52\n",
      "1     Australia      487946          14.56\n",
      "2       England      438217          13.07\n",
      "3         India      388868          11.60\n",
      "4  South Africa      331529           9.89\n",
      "5     Sri Lanka      256448           7.65\n",
      "6   New Zealand      233198           6.96\n",
      "7      Pakistan      214330           6.39\n",
      "8   West Indies      140412           4.19\n",
      "9    Bangladesh       81468           2.43\n"
     ]
    }
   ],
   "source": [
    "query  = \"\"\"   select match_winner, count(*) as total_wins,round((count(*)/(select count(*) from test_match )* 100),2) as win_percentage from test_match\n",
    "        group by match_winner order by win_percentage desc limit 10  \"\"\"\n",
    "\n",
    "cursor.execute(query)\n",
    "results = cursor.fetchall()\n",
    "\n",
    "db.close_connection()\n",
    "coln = [desc[0] for desc in cursor.description]\n",
    "df = pd.DataFrame(results, columns=coln)\n",
    "print(df)"
   ]
  },
  {
   "cell_type": "markdown",
   "metadata": {},
   "source": [
    "#### (4) Top 10 Players with Highest Career Runs Across All Formats"
   ]
  },
  {
   "cell_type": "code",
   "execution_count": 5,
   "metadata": {},
   "outputs": [
    {
     "name": "stdout",
     "output_type": "stream",
     "text": [
      "          batsman total_runs\n",
      "0         V Kohli      71449\n",
      "1       RG Sharma      52342\n",
      "2       DA Warner      50460\n",
      "3  AB de Villiers      48778\n",
      "4   KC Sangakkara      46352\n",
      "5        MS Dhoni      43970\n",
      "6   KS Williamson      42138\n",
      "7         JE Root      41330\n",
      "8       SPD Smith      39127\n",
      "9         HM Amla      37658\n"
     ]
    }
   ],
   "source": [
    "query  = \"\"\"select batsman, sum(runs_batsman) as total_runs from \n",
    "            (select batsman, runs_batsman from test_match union all\n",
    "            select batsman, runs_batsman from odi_match union all\n",
    "            select batsman, runs_batsman from t20_match union all\n",
    "            select batsman, runs_batsman from ipl_match) as combined\n",
    "        group by batsman order by total_runs desc limit 10; \"\"\"\n",
    "\n",
    "cursor.execute(query)\n",
    "results = cursor.fetchall()\n",
    "\n",
    "db.close_connection()\n",
    "coln = [desc[0] for desc in cursor.description]\n",
    "df = pd.DataFrame(results, columns=coln)\n",
    "print(df)"
   ]
  },
  {
   "cell_type": "markdown",
   "metadata": {},
   "source": [
    "#### (5)Matches with the narrowest margin of victory."
   ]
  },
  {
   "cell_type": "code",
   "execution_count": 6,
   "metadata": {},
   "outputs": [
    {
     "name": "stdout",
     "output_type": "stream",
     "text": [
      "  match_id  match_winner  min_win_margin\n",
      "0  1263153  South Africa               1\n",
      "1  1185313  South Africa               1\n",
      "2  1138196   New Zealand               1\n",
      "3  1172165       England               1\n",
      "4  1256721       England               1\n",
      "5  1041615   West Indies               1\n",
      "6  1289043         Kenya               1\n",
      "7  1282748         Italy               1\n",
      "8  1322356   New Zealand               1\n",
      "9  1184902         Kenya               1\n"
     ]
    }
   ],
   "source": [
    "query  = \"\"\" select match_id, match_winner, min(win_by_runs) as min_win_margin from ( select  match_id, match_winner, win_by_runs from test_match where win_by_runs is not null  \n",
    "            union  ALL\n",
    "            select  match_id, match_winner, win_by_runs from t20_match where win_by_runs is not null \n",
    "            union all \n",
    "            select  match_id, match_winner, win_by_runs from odi_match where win_by_runs is not null\n",
    "            union all \n",
    "            select  match_id, match_winner, win_by_runs from ipl_match where win_by_runs is not null\n",
    "            ) as combined_result\n",
    "            GROUP BY match_id, match_winner  order by min_win_margin asc limit 10;  \"\"\"\n",
    "\n",
    "cursor.execute(query)\n",
    "results = cursor.fetchall()\n",
    "\n",
    "db.close_connection()\n",
    "coln = [desc[0] for desc in cursor.description]\n",
    "df = pd.DataFrame(results, columns=coln)\n",
    "print(df)"
   ]
  },
  {
   "cell_type": "markdown",
   "metadata": {},
   "source": [
    "#### (6)Total number of matches played by each team"
   ]
  },
  {
   "cell_type": "code",
   "execution_count": 7,
   "metadata": {},
   "outputs": [
    {
     "name": "stdout",
     "output_type": "stream",
     "text": [
      "           team  total_matches\n",
      "0         India           1224\n",
      "1       England           1203\n",
      "2     Australia           1151\n",
      "3      Pakistan           1042\n",
      "4     Sri Lanka           1040\n",
      "5  South Africa           1030\n",
      "6   New Zealand            993\n",
      "7   West Indies            974\n",
      "8    Bangladesh            761\n",
      "9      Zimbabwe            546\n"
     ]
    }
   ],
   "source": [
    "query  = \"\"\"  select team, count(*) as total_matches from (select DISTINCT team_1 AS team, match_id  from test_match union all select DISTINCT team_2 AS team, match_id  from test_match union all  \n",
    "                select DISTINCT team_1 AS team, match_id  from t20_match union all select DISTINCT team_2 AS team, match_id  from t20_match union select DISTINCT team_1 AS team, match_id  from odi_match union all\n",
    "                select DISTINCT team_2 AS team, match_id  from odi_match union all\n",
    "                select DISTINCT team_1 AS team, match_id  from ipl_match union all  select DISTINCT team_2 AS team, match_id  from ipl_match ) as combined \n",
    "                group by team order by total_matches desc limit 10;\"\"\"\n",
    "\n",
    "cursor.execute(query)\n",
    "results = cursor.fetchall()\n",
    "\n",
    "db.close_connection()\n",
    "coln = [desc[0] for desc in cursor.description]\n",
    "df = pd.DataFrame(results, columns=coln)\n",
    "print(df)"
   ]
  },
  {
   "cell_type": "markdown",
   "metadata": {},
   "source": [
    "#### (7) Win/loss ratio of each team in ODIs"
   ]
  },
  {
   "cell_type": "code",
   "execution_count": 8,
   "metadata": {},
   "outputs": [
    {
     "name": "stdout",
     "output_type": "stream",
     "text": [
      "           team  total_wins win_percentage\n",
      "0     Australia      415046        13.6254\n",
      "1         India      402893        13.2264\n",
      "2       England      319313        10.4826\n",
      "3  South Africa      317915        10.4367\n",
      "4   New Zealand      261348         8.5797\n",
      "5      Pakistan      256818         8.4310\n",
      "6     Sri Lanka      253299         8.3155\n",
      "7   West Indies      185652         6.0947\n",
      "8    Bangladesh      147066         4.8280\n",
      "9      Zimbabwe       76852         2.5229\n"
     ]
    }
   ],
   "source": [
    "query  = \"\"\" SELECT match_winner AS team, COUNT(*) AS total_wins, (COUNT(*) / (SELECT COUNT(*) FROM odi_match WHERE match_winner IS NOT NULL)) * 100 AS win_percentage\n",
    "                FROM odi_match WHERE match_winner IS NOT NULL\n",
    "                GROUP BY match_winner ORDER BY total_wins DESC limit 10;    \"\"\"\n",
    "\n",
    "cursor.execute(query)\n",
    "results = cursor.fetchall()\n",
    "\n",
    "db.close_connection()\n",
    "coln = [desc[0] for desc in cursor.description]\n",
    "df = pd.DataFrame(results, columns=coln)\n",
    "print(df)"
   ]
  },
  {
   "cell_type": "markdown",
   "metadata": {},
   "source": [
    "#### (8)Most successful chasing team in T20s (Highest wins while chasing)"
   ]
  },
  {
   "cell_type": "code",
   "execution_count": 9,
   "metadata": {},
   "outputs": [
    {
     "name": "stdout",
     "output_type": "stream",
     "text": [
      "   match_winner  chases_won\n",
      "0         India       70450\n",
      "1       England       58866\n",
      "2     Australia       55510\n",
      "3   New Zealand       50356\n",
      "4  South Africa       44755\n",
      "5      Pakistan       42597\n",
      "6   West Indies       36508\n",
      "7     Sri Lanka       31212\n",
      "8       Ireland       27878\n",
      "9    Bangladesh       26835\n"
     ]
    }
   ],
   "source": [
    "query  = \"\"\" select match_winner, COUNT(*) as chases_won from t20_match where toss_decision = 'field' group by match_winner\n",
    "        order by chases_won desc limit 10;\"\"\"\n",
    "\n",
    "cursor.execute(query)\n",
    "results = cursor.fetchall()\n",
    "\n",
    "db.close_connection()\n",
    "coln = [desc[0] for desc in cursor.description]\n",
    "df = pd.DataFrame(results, columns=coln)\n",
    "print(df)"
   ]
  },
  {
   "cell_type": "markdown",
   "metadata": {},
   "source": [
    "#### (9) Correlation between toss winners and match winners"
   ]
  },
  {
   "cell_type": "code",
   "execution_count": 10,
   "metadata": {},
   "outputs": [
    {
     "name": "stdout",
     "output_type": "stream",
     "text": [
      "   total_matches toss_win_match_win correlation_percentage\n",
      "0        8937344            4176625                46.7323\n"
     ]
    }
   ],
   "source": [
    "query  = \"\"\" select count(*) as total_matches, sum(case when toss_winner = match_winner then 1 else 0 end)  as toss_win_match_win,\n",
    "            (sum(case when toss_winner = match_winner then 1 else 0 end) /count(*)) * 100 as correlation_percentage\n",
    "            from (select toss_winner, match_winner from test_match union all select toss_winner, match_winner from odi_match union all\n",
    "            select toss_winner, match_winner from t20_match union all select toss_winner, match_winner from ipl_match) AS combined;\"\"\"\n",
    "\n",
    "cursor.execute(query)\n",
    "results = cursor.fetchall()\n",
    "\n",
    "db.close_connection()\n",
    "coln = [desc[0] for desc in cursor.description]\n",
    "df = pd.DataFrame(results, columns=coln)\n",
    "print(df)"
   ]
  },
  {
   "cell_type": "markdown",
   "metadata": {},
   "source": [
    "#### (10)Most common toss decision in ODIs (bat/field)?"
   ]
  },
  {
   "cell_type": "code",
   "execution_count": 11,
   "metadata": {},
   "outputs": [
    {
     "name": "stdout",
     "output_type": "stream",
     "text": [
      "  toss_decision    count\n",
      "0           bat  1570293\n",
      "1         field  1562677\n"
     ]
    }
   ],
   "source": [
    "query  = \"\"\" select toss_decision, count(*) AS count from odi_match group by toss_decision order by count desc;\"\"\"\n",
    "\n",
    "cursor.execute(query)\n",
    "results = cursor.fetchall()\n",
    "\n",
    "db.close_connection()\n",
    "coln = [desc[0] for desc in cursor.description]\n",
    "df = pd.DataFrame(results, columns=coln)\n",
    "print(df)"
   ]
  },
  {
   "cell_type": "markdown",
   "metadata": {},
   "source": [
    "#### (11) Player with the most \"Player of the Match\" awards in ODIs"
   ]
  },
  {
   "cell_type": "code",
   "execution_count": 12,
   "metadata": {},
   "outputs": [
    {
     "name": "stdout",
     "output_type": "stream",
     "text": [
      "   player_of_match  awards\n",
      "0          V Kohli   47972\n",
      "1    KC Sangakkara   30426\n",
      "2   AB de Villiers   29662\n",
      "3        RG Sharma   28646\n",
      "4       TM Dilshan   25868\n",
      "5  Shakib Al Hasan   23842\n",
      "6       MJ Guptill   22850\n",
      "7         MS Dhoni   22762\n",
      "8     Yuvraj Singh   22238\n",
      "9  Mohammad Hafeez   21826\n"
     ]
    }
   ],
   "source": [
    "query  = \"\"\" select player_of_match, COUNT(*) AS awards from odi_match where player_of_match !='Unknown'  \n",
    "                group by player_of_match order by awards desc limit 10;\"\"\"\n",
    "\n",
    "cursor.execute(query)\n",
    "results = cursor.fetchall()\n",
    "\n",
    "db.close_connection()\n",
    "coln = [desc[0] for desc in cursor.description]\n",
    "df = pd.DataFrame(results, columns=coln)\n",
    "print(df)"
   ]
  },
  {
   "cell_type": "markdown",
   "metadata": {},
   "source": [
    "#### (12)Team with Most Matches Played Across All Formats"
   ]
  },
  {
   "cell_type": "code",
   "execution_count": 13,
   "metadata": {},
   "outputs": [
    {
     "name": "stdout",
     "output_type": "stream",
     "text": [
      "           team  total_matches\n",
      "0       England        1841327\n",
      "1     Australia        1690601\n",
      "2         India        1685264\n",
      "3  South Africa        1392007\n",
      "4     Sri Lanka        1390161\n",
      "5      Pakistan        1347972\n",
      "6   New Zealand        1291478\n",
      "7   West Indies        1249595\n",
      "8    Bangladesh         931845\n",
      "9      Zimbabwe         577797\n"
     ]
    }
   ],
   "source": [
    "query  = \"\"\" select team, COUNT(*) as total_matches from\n",
    "  ( select team_1 as team from test_match  union all  \n",
    "    select team_2 as team from test_match  union all  \n",
    "    select team_1 as team from odi_match  union all  \n",
    "    select team_2 as team from odi_match  union all  \n",
    "    select team_1 as team from t20_match  union all  \n",
    "    select team_2 as team from t20_match  union all  \n",
    "    select team_1 as team from ipl_match  union all  \n",
    "    select team_2 as team from ipl_match) as combined \n",
    "\tgroup by team order by  total_matches desc limit 10;\"\"\"\n",
    "\n",
    "cursor.execute(query)\n",
    "results = cursor.fetchall()\n",
    "\n",
    "db.close_connection()\n",
    "coln = [desc[0] for desc in cursor.description]\n",
    "df = pd.DataFrame(results, columns=coln)\n",
    "print(df)"
   ]
  },
  {
   "cell_type": "markdown",
   "metadata": {},
   "source": [
    "#### (13) Highest individual score in an ODI match"
   ]
  },
  {
   "cell_type": "code",
   "execution_count": 14,
   "metadata": {},
   "outputs": [
    {
     "name": "stdout",
     "output_type": "stream",
     "text": [
      "     batsman match_id highest_score\n",
      "0  RG Sharma   792295           528\n"
     ]
    }
   ],
   "source": [
    "query  = \"\"\"select batsman, match_id, sum(runs_batsman) as highest_score from odi_match\n",
    "            group by batsman, match_id order by highest_score desc limit 1 \"\"\"\n",
    "\n",
    "cursor.execute(query)\n",
    "results = cursor.fetchall()\n",
    "\n",
    "db.close_connection()\n",
    "coln = [desc[0] for desc in cursor.description]\n",
    "df = pd.DataFrame(results, columns=coln)\n",
    "print(df)"
   ]
  },
  {
   "cell_type": "markdown",
   "metadata": {},
   "source": [
    "#### (14)Venues with the highest average runs per match "
   ]
  },
  {
   "cell_type": "code",
   "execution_count": 15,
   "metadata": {},
   "outputs": [
    {
     "name": "stdout",
     "output_type": "stream",
     "text": [
      "                                               venue  avg_total_runs\n",
      "0                          Antigua Recreation Ground            2920\n",
      "1      Antigua Recreation Ground, St John's, Antigua            2630\n",
      "2  Punjab Cricket Association Stadium, Mohali, Ch...            2380\n",
      "3                               Sardar Patel Stadium            2338\n",
      "4     Daren Sammy National Cricket Stadium, St Lucia            2088\n",
      "5                                    Kensington Oval            2020\n",
      "6                               Sabina Park, Jamaica            1822\n",
      "7                               Vidarbha C.A. Ground            1821\n",
      "8  Darren Sammy National Cricket Stadium, Gros Islet            1806\n",
      "9                                 Green Park, Kanpur            1802\n"
     ]
    }
   ],
   "source": [
    "query  = \"\"\"select venue,cast(avg(runs_total) as UNSIGNED) as avg_total_runs \n",
    "            FROM (select venue, match_id, sum(runs_total) as runs_total from test_match group by  venue, match_id union all\n",
    "            select venue, match_id, sum(runs_total) as runs_total from odi_match group by venue, match_id union all\n",
    "            select venue, match_id, sum(runs_total) as runs_total from t20_match group by venue, match_id union all\n",
    "            select venue, match_id, sum(runs_total) as runs_total from ipl_match group by venue, match_id) as combined \n",
    "            group by venue order by avg_total_runs desc limit 10;\"\"\"\n",
    "\n",
    "cursor.execute(query)\n",
    "results = cursor.fetchall()\n",
    "\n",
    "db.close_connection()\n",
    "coln = [desc[0] for desc in cursor.description]\n",
    "df = pd.DataFrame(results, columns=coln)\n",
    "print(df)"
   ]
  },
  {
   "cell_type": "markdown",
   "metadata": {},
   "source": [
    "#### (15)Best bowling figures in a single ODI match (most wickets in a match)"
   ]
  },
  {
   "cell_type": "code",
   "execution_count": 16,
   "metadata": {},
   "outputs": [
    {
     "name": "stdout",
     "output_type": "stream",
     "text": [
      "             bowler match_id  wickets\n",
      "0     Mohammad Sami    66363      124\n",
      "1     Shabbir Ahmed    64883      122\n",
      "2       BA Williams    66366      120\n",
      "3         DB Sharma  1073427      120\n",
      "4  Shahadat Hossain   264070      118\n"
     ]
    }
   ],
   "source": [
    "query  = \"\"\" select bowler, match_id, count(*) as wickets from odi_match where runs_batsman = 0\n",
    "            group by bowler, match_id order by wickets desc limit 5;\"\"\"\n",
    "\n",
    "cursor.execute(query)\n",
    "results = cursor.fetchall()\n",
    "\n",
    "db.close_connection()\n",
    "coln = [desc[0] for desc in cursor.description]\n",
    "df = pd.DataFrame(results, columns=coln)\n",
    "print(df)"
   ]
  },
  {
   "cell_type": "markdown",
   "metadata": {},
   "source": [
    "#### (16)Highest partnership (sum of consecutive batsmen runs) in T20s"
   ]
  },
  {
   "cell_type": "code",
   "execution_count": 17,
   "metadata": {},
   "outputs": [
    {
     "name": "stdout",
     "output_type": "stream",
     "text": [
      "           batsman total_runs\n",
      "0       Babar Azam       8344\n",
      "1        RG Sharma       8084\n",
      "2          V Kohli       7938\n",
      "3       JC Buttler       7159\n",
      "4       S Mandhana       7038\n",
      "5       MJ Guptill       7034\n",
      "6  Mohammad Rizwan       6772\n",
      "7        BL Mooney       6674\n",
      "8        DA Warner       6508\n",
      "9         SW Bates       6330\n"
     ]
    }
   ],
   "source": [
    "query  = \"\"\"select batsman, SUM(runs_batsman) as total_runs from t20_match\n",
    "group by batsman order by total_runs DESC limit 10;\"\"\"\n",
    "\n",
    "cursor.execute(query)\n",
    "results = cursor.fetchall()\n",
    "\n",
    "db.close_connection()\n",
    "coln = [desc[0] for desc in cursor.description]\n",
    "df = pd.DataFrame(results, columns=coln)\n",
    "print(df)"
   ]
  },
  {
   "cell_type": "markdown",
   "metadata": {},
   "source": [
    "#### (17)Most Wickets in a Single IPL Match"
   ]
  },
  {
   "cell_type": "code",
   "execution_count": 18,
   "metadata": {},
   "outputs": [
    {
     "name": "stdout",
     "output_type": "stream",
     "text": [
      "  match_id          bowler  wickets\n",
      "0  1304105         DR Sams       48\n",
      "1  1359479  Mohammed Siraj       44\n",
      "2   392222      SL Malinga       44\n",
      "3  1422132       JJ Bumrah       42\n",
      "4   336012        DW Steyn       42\n",
      "5  1304082     Umran Malik       42\n",
      "6   392210      SM Harwood       42\n",
      "7   336023   Sohail Tanvir       42\n",
      "8  1178398       DL Chahar       42\n",
      "9   392195     Kamran Khan       42\n"
     ]
    }
   ],
   "source": [
    "query  = \"\"\"select match_id,bowler, COUNT(*) as wickets from ipl_match where runs_batsman = 0 \n",
    "        group by match_id, bowler order by wickets desc limit 10;\"\"\"\n",
    "\n",
    "cursor.execute(query)\n",
    "results = cursor.fetchall()\n",
    "\n",
    "db.close_connection()\n",
    "coln = [desc[0] for desc in cursor.description]\n",
    "df = pd.DataFrame(results, columns=coln)\n",
    "print(df)"
   ]
  },
  {
   "cell_type": "markdown",
   "metadata": {},
   "source": [
    "#### (18)Number of matches played at each venue"
   ]
  },
  {
   "cell_type": "code",
   "execution_count": 19,
   "metadata": {},
   "outputs": [
    {
     "name": "stdout",
     "output_type": "stream",
     "text": [
      "                                               venue  total_matches\n",
      "0                Dubai International Cricket Stadium            214\n",
      "1                                 Harare Sports Club            191\n",
      "2                      Shere Bangla National Stadium            136\n",
      "3  Al Amerat Cricket Ground Oman Cricket (Ministr...            129\n",
      "4                               Sheikh Zayed Stadium            116\n",
      "5                                       Eden Gardens            103\n",
      "6                            Sharjah Cricket Stadium            100\n",
      "7                                   Wankhede Stadium             97\n",
      "8                              Sydney Cricket Ground             94\n",
      "9                              M Chinnaswamy Stadium             91\n"
     ]
    }
   ],
   "source": [
    "query  = \"\"\"select venue, count(distinct match_id) as total_matches from\n",
    "            (select venue, match_id from test_match union all  select venue, match_id from odi_match union all \n",
    "            select venue, match_id from t20_match union all select venue, match_id from ipl_match) as combined\n",
    "            group by venue order by total_matches desc limit 10; \"\"\"\n",
    "\n",
    "cursor.execute(query)\n",
    "results = cursor.fetchall()\n",
    "\n",
    "db.close_connection()\n",
    "coln = [desc[0] for desc in cursor.description]\n",
    "df = pd.DataFrame(results, columns=coln)\n",
    "print(df)"
   ]
  },
  {
   "cell_type": "markdown",
   "metadata": {},
   "source": [
    "#### (19)Most common toss decision in ODIs"
   ]
  },
  {
   "cell_type": "code",
   "execution_count": 20,
   "metadata": {},
   "outputs": [
    {
     "name": "stdout",
     "output_type": "stream",
     "text": [
      "  toss_decision    count\n",
      "0           bat  1570293\n",
      "1         field  1562677\n"
     ]
    }
   ],
   "source": [
    "query  = \"\"\"select toss_decision, count(*) as count from odi_match \n",
    "group by toss_decision order by count desc;\"\"\"\n",
    "\n",
    "cursor.execute(query)\n",
    "results = cursor.fetchall()\n",
    "\n",
    "db.close_connection()\n",
    "coln = [desc[0] for desc in cursor.description]\n",
    "df = pd.DataFrame(results, columns=coln)\n",
    "print(df)"
   ]
  },
  {
   "cell_type": "markdown",
   "metadata": {},
   "source": [
    "#### (20) Best Finisher in T20 & IPL Matches"
   ]
  },
  {
   "cell_type": "code",
   "execution_count": 21,
   "metadata": {},
   "outputs": [
    {
     "name": "stdout",
     "output_type": "stream",
     "text": [
      "          batsman total_runs_in_death_overs\n",
      "0        MS Dhoni                      7504\n",
      "1      KA Pollard                      4574\n",
      "2       HH Pandya                      4138\n",
      "3       DA Miller                      4004\n",
      "4      KD Karthik                      3826\n",
      "5         V Kohli                      3670\n",
      "6       RA Jadeja                      3566\n",
      "7  AB de Villiers                      3354\n",
      "8      AD Russell                      3208\n",
      "9       RG Sharma                      2876\n"
     ]
    }
   ],
   "source": [
    "query  = \"\"\"select batsman, SUM(runs_batsman) as total_runs_in_death_overs from \n",
    "            (select batsman, runs_batsman from t20_match where over_number between 16 and 20 union all\n",
    "            select batsman, runs_batsman from ipl_match where over_number between 16 and 20 ) as combined\n",
    "            group by batsman order by total_runs_in_death_overs desc limit 10;\"\"\"\n",
    "\n",
    "cursor.execute(query)\n",
    "results = cursor.fetchall()\n",
    "\n",
    "db.close_connection()\n",
    "coln = [desc[0] for desc in cursor.description]\n",
    "df = pd.DataFrame(results, columns=coln)\n",
    "print(df)"
   ]
  }
 ],
 "metadata": {
  "kernelspec": {
   "display_name": "proj_env",
   "language": "python",
   "name": "python3"
  },
  "language_info": {
   "codemirror_mode": {
    "name": "ipython",
    "version": 3
   },
   "file_extension": ".py",
   "mimetype": "text/x-python",
   "name": "python",
   "nbconvert_exporter": "python",
   "pygments_lexer": "ipython3",
   "version": "3.11.9"
  }
 },
 "nbformat": 4,
 "nbformat_minor": 2
}
